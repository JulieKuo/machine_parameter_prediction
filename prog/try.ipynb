{
 "cells": [
  {
   "attachments": {},
   "cell_type": "markdown",
   "metadata": {},
   "source": [
    "### train"
   ]
  },
  {
   "cell_type": "code",
   "execution_count": 1,
   "metadata": {},
   "outputs": [
    {
     "name": "stdout",
     "output_type": "stream",
     "text": [
      "python train.py \"ewogICAgIm1vZGVsX2lkIjogIjIwMjMxMDI2MDAwMDAwIiwKICAgICJzdGFydF90aW1lIjogIjIwMjMtMDktMDEiLAogICAgImVuZF90aW1lIjogIjIwMjMtMTAtMTAiLAogICAgIm1vZGVsX3R5cGUiOiAwCn0=\"\n"
     ]
    }
   ],
   "source": [
    "import json, base64\n",
    "params = {\n",
    "    \"model_id\": \"20231026000000\",\n",
    "    \"start_time\": \"2023-09-01\",\n",
    "    \"end_time\": \"2023-10-10\",\n",
    "    \"model_type\": 0\n",
    "}\n",
    "params1 = json.dumps(params, indent=4)\n",
    "\n",
    "b = params1.encode(\"UTF-8\")\n",
    "e = base64.b64encode(b)\n",
    "argv = e.decode(\"UTF-8\")\n",
    "print(f'python train.py \"{argv}\"')"
   ]
  },
  {
   "cell_type": "markdown",
   "metadata": {},
   "source": [
    "### predict"
   ]
  },
  {
   "cell_type": "code",
   "execution_count": 2,
   "metadata": {},
   "outputs": [],
   "source": [
    "import pandas as pd\n",
    "df = pd.read_excel(r\"C:\\Users\\tzuli\\Documents\\python\\hosong\\data\\train\\train.xlsx\",\n",
    "                   sheet_name=\"simulation\", header=[0, 1, 2, 3])\n",
    "df = df.iloc[:, 1:]\n",
    "\n",
    "# find ER samples\n",
    "ER_col = [i for i in df.columns if i[3] == \"ER\"]\n",
    "ok = df[(df[ER_col] == 0).all(axis = 1)].reset_index(drop = True)\n",
    "df = df[(df[ER_col] != 0).any(axis = 1)].reset_index(drop = True)\n",
    "\n",
    "# calculate total ER by each side\n",
    "left_ER_col = [i for i in df.columns if (i[3] == \"ER\") and (i[1] == \"左邊\")]\n",
    "right_ER_col = [i for i in df.columns if (i[3] == \"ER\") and (i[1] == \"右邊\")]\n",
    "left = df[left_ER_col].sum(axis=1)\n",
    "right = df[right_ER_col].sum(axis=1)\n",
    "\n",
    "# calculate difference between left and right\n",
    "error = abs(left - right)\n",
    "\n",
    "# rename columns\n",
    "df.columns = [(cols[2] + \"_\" + cols[3]) for cols in df.columns]\n",
    "ok.columns = [(cols[2] + \"_\" + cols[3]) for cols in ok.columns]\n",
    "\n",
    "# choose the adjustment method\n",
    "ng1_3 = df[error > 0.001]\n",
    "ng4 = df[(error <= 0.001) & (left < right)]\n",
    "ng5 = df[(error <= 0.001) & (left >= right)]\n",
    "\n",
    "params = ng1_3.sample(1).iloc[0].to_dict() # ok, ng1_3, ng4, ng5"
   ]
  },
  {
   "cell_type": "markdown",
   "metadata": {},
   "source": [
    "params = df[(left < right)].sample(1).iloc[0].to_dict()"
   ]
  },
  {
   "cell_type": "code",
   "execution_count": 3,
   "metadata": {},
   "outputs": [],
   "source": [
    "with open(r\"C:\\Users\\tzuli\\Documents\\python\\hosong\\data\\predict\\input.json\", 'w', encoding='utf-8') as file:\n",
    "    json.dump(params, file, indent=4, ensure_ascii=False)"
   ]
  },
  {
   "cell_type": "code",
   "execution_count": 4,
   "metadata": {},
   "outputs": [
    {
     "name": "stdout",
     "output_type": "stream",
     "text": [
      "python predict.py \"ewogICAgIm1vZGVsX2lkIjogWwogICAgICAgICIyMDIzMTAyNTAwMDAwMCIsCiAgICAgICAgIjIwMjMxMDI2MDAwMDAwIgogICAgXSwKICAgICJ1cGxvYWRfdGltZSI6ICIyMDIzLTEwLTMxIDEyOjA3OjUyIiwKICAgICJtYWNoaW5lX2lkIjogIlhYWFgiLAogICAgInBhdGgiOiAiQzpcXFVzZXJzXFx0enVsaVxcRG9jdW1lbnRzXFxweXRob25cXGhvc29uZ1xcZGF0YVxccHJlZGljdCIKfQ==\"\n"
     ]
    }
   ],
   "source": [
    "import json, base64\n",
    "from datetime import datetime\n",
    "params = {\n",
    "    \"model_id\": [\"20231025000000\", \"20231026000000\"],\n",
    "    \"upload_time\":  datetime.now().strftime(\"%Y-%m-%d %H:%M:%S\"),\n",
    "    \"machine_id\": \"XXXX\",\n",
    "    \"path\": r\"C:\\Users\\tzuli\\Documents\\python\\hosong\\data\\predict\"\n",
    "}\n",
    "params1 = json.dumps(params, indent=4)\n",
    "\n",
    "b = params1.encode(\"UTF-8\")\n",
    "e = base64.b64encode(b)\n",
    "argv = e.decode(\"UTF-8\")\n",
    "print(f'python predict.py \"{argv}\"')"
   ]
  }
 ],
 "metadata": {
  "kernelspec": {
   "display_name": ".venv",
   "language": "python",
   "name": "python3"
  },
  "language_info": {
   "codemirror_mode": {
    "name": "ipython",
    "version": 3
   },
   "file_extension": ".py",
   "mimetype": "text/x-python",
   "name": "python",
   "nbconvert_exporter": "python",
   "pygments_lexer": "ipython3",
   "version": "3.8.10"
  },
  "orig_nbformat": 4
 },
 "nbformat": 4,
 "nbformat_minor": 2
}
