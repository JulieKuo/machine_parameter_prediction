{
 "cells": [
  {
   "cell_type": "code",
   "execution_count": 1,
   "metadata": {},
   "outputs": [],
   "source": [
    "import pandas as pd\n",
    "from statistics import mode\n",
    "import json, os, pickle"
   ]
  },
  {
   "cell_type": "code",
   "execution_count": 2,
   "metadata": {},
   "outputs": [],
   "source": [
    "from datetime import datetime\n",
    "input_ = {\n",
    "    \"model_id\": [\"20231025000000\", \"20231026000000\"],\n",
    "    \"upload_time\":  datetime.now().strftime(\"%Y-%m-%d %H:%M:%S\"),\n",
    "    \"machine_id\": \"XXXX\",\n",
    "    \"path\": r\"C:\\Users\\tzuli\\Documents\\python\\hosong\\data\\predict\"\n",
    "}\n",
    "\n",
    "root = os.getcwd()\n",
    "\n",
    "\n",
    "model_id = input_[\"model_id\"]\n",
    "upload_time = input_[\"upload_time\"]\n",
    "machine_id = input_[\"machine_id\"]\n",
    "\n",
    "\n",
    "# 取得input\n",
    "input_json = os.path.join(input_[\"path\"], \"input.json\")\n",
    "output_json = os.path.join(input_[\"path\"], \"output.json\")\n",
    "with open(input_json, encoding = \"utf-8\") as f:\n",
    "    input_ = json.load(f)\n",
    "\n",
    "\n",
    "# 取得model位置\n",
    "ng4_5_detail = os.path.join(root, \"data\", \"train\", model_id[0], \"ng4_5\", \"model\")\n",
    "ng1_3_detail = os.path.join(root, \"data\", \"train\", model_id[1], \"ng1_3\", \"model\")\n",
    "\n",
    "\n",
    "# NG歷史紀錄\n",
    "pred_path = os.path.join(root, \"data\", \"predict\")        \n",
    "os.makedirs(pred_path, exist_ok = True)\n",
    "ng1_3_history_path = os.path.join(pred_path, \"NG1_3.json\")\n",
    "\n",
    "if os.path.exists(ng1_3_history_path): # 如果檔案存在，則讀取檔案內容    \n",
    "    with open(ng1_3_history_path, encoding=\"utf-8\") as f:\n",
    "        ng1_3_history = json.load(f)\n",
    "else: # 如果檔案不存在，則創建一個新的dict\n",
    "    ng1_3_history = {}\n",
    "\n",
    "\n",
    "# 取得config\n",
    "config_path = os.path.join(root, \"prog\", \"config.json\")\n",
    "with open(config_path, encoding = \"utf-8\") as f:\n",
    "    config = json.load(f)\n",
    "model_cols = config[\"model_cols\"] # set columns for each models\n",
    "directions = config[\"directions\"]"
   ]
  },
  {
   "cell_type": "code",
   "execution_count": 3,
   "metadata": {},
   "outputs": [
    {
     "data": {
      "text/html": [
       "<div>\n",
       "<style scoped>\n",
       "    .dataframe tbody tr th:only-of-type {\n",
       "        vertical-align: middle;\n",
       "    }\n",
       "\n",
       "    .dataframe tbody tr th {\n",
       "        vertical-align: top;\n",
       "    }\n",
       "\n",
       "    .dataframe thead th {\n",
       "        text-align: right;\n",
       "    }\n",
       "</style>\n",
       "<table border=\"1\" class=\"dataframe\">\n",
       "  <thead>\n",
       "    <tr style=\"text-align: right;\">\n",
       "      <th></th>\n",
       "      <th>直徑(1)\\n圓(A0.左邊)_NV</th>\n",
       "      <th>直徑(1)\\n圓(A0.左邊)_AV</th>\n",
       "      <th>直徑(1)\\n圓(A0.左邊)_DV</th>\n",
       "      <th>直徑(1)\\n圓(A0.左邊)_UT</th>\n",
       "      <th>直徑(1)\\n圓(A0.左邊)_LT</th>\n",
       "      <th>直徑(1)\\n圓(A0.左邊)_ER</th>\n",
       "      <th>Y距離(7)\\n距離(A0.左邊)_NV</th>\n",
       "      <th>Y距離(7)\\n距離(A0.左邊)_AV</th>\n",
       "      <th>Y距離(7)\\n距離(A0.左邊)_DV</th>\n",
       "      <th>Y距離(7)\\n距離(A0.左邊)_UT</th>\n",
       "      <th>...</th>\n",
       "      <th>Y距離(6)\\n距離(A180.左邊)(A180.右邊)_DV</th>\n",
       "      <th>Y距離(6)\\n距離(A180.左邊)(A180.右邊)_UT</th>\n",
       "      <th>Y距離(6)\\n距離(A180.左邊)(A180.右邊)_LT</th>\n",
       "      <th>Y距離(6)\\n距離(A180.左邊)(A180.右邊)_ER</th>\n",
       "      <th>XY距離(1)\\n距離_NV</th>\n",
       "      <th>XY距離(1)\\n距離_AV</th>\n",
       "      <th>XY距離(1)\\n距離_DV</th>\n",
       "      <th>XY距離(1)\\n距離_UT</th>\n",
       "      <th>XY距離(1)\\n距離_LT</th>\n",
       "      <th>XY距離(1)\\n距離_ER</th>\n",
       "    </tr>\n",
       "  </thead>\n",
       "  <tbody>\n",
       "    <tr>\n",
       "      <th>0</th>\n",
       "      <td>98.0</td>\n",
       "      <td>98.01</td>\n",
       "      <td>0.01</td>\n",
       "      <td>0.022</td>\n",
       "      <td>0.0</td>\n",
       "      <td>0.0</td>\n",
       "      <td>100.0</td>\n",
       "      <td>99.998</td>\n",
       "      <td>-0.002</td>\n",
       "      <td>0.01</td>\n",
       "      <td>...</td>\n",
       "      <td>0.009</td>\n",
       "      <td>0.019</td>\n",
       "      <td>0.0</td>\n",
       "      <td>0.0</td>\n",
       "      <td>240.3</td>\n",
       "      <td>240.312</td>\n",
       "      <td>0.012</td>\n",
       "      <td>0.05</td>\n",
       "      <td>-0.05</td>\n",
       "      <td>0.0</td>\n",
       "    </tr>\n",
       "  </tbody>\n",
       "</table>\n",
       "<p>1 rows × 90 columns</p>\n",
       "</div>"
      ],
      "text/plain": [
       "   直徑(1)\\n圓(A0.左邊)_NV  直徑(1)\\n圓(A0.左邊)_AV  直徑(1)\\n圓(A0.左邊)_DV  \\\n",
       "0                98.0               98.01                0.01   \n",
       "\n",
       "   直徑(1)\\n圓(A0.左邊)_UT  直徑(1)\\n圓(A0.左邊)_LT  直徑(1)\\n圓(A0.左邊)_ER  \\\n",
       "0               0.022                 0.0                 0.0   \n",
       "\n",
       "   Y距離(7)\\n距離(A0.左邊)_NV  Y距離(7)\\n距離(A0.左邊)_AV  Y距離(7)\\n距離(A0.左邊)_DV  \\\n",
       "0                 100.0                99.998                -0.002   \n",
       "\n",
       "   Y距離(7)\\n距離(A0.左邊)_UT  ...  Y距離(6)\\n距離(A180.左邊)(A180.右邊)_DV  \\\n",
       "0                  0.01  ...                            0.009   \n",
       "\n",
       "   Y距離(6)\\n距離(A180.左邊)(A180.右邊)_UT  Y距離(6)\\n距離(A180.左邊)(A180.右邊)_LT  \\\n",
       "0                            0.019                              0.0   \n",
       "\n",
       "   Y距離(6)\\n距離(A180.左邊)(A180.右邊)_ER  XY距離(1)\\n距離_NV  XY距離(1)\\n距離_AV  \\\n",
       "0                              0.0           240.3         240.312   \n",
       "\n",
       "   XY距離(1)\\n距離_DV  XY距離(1)\\n距離_UT  XY距離(1)\\n距離_LT  XY距離(1)\\n距離_ER  \n",
       "0           0.012            0.05           -0.05             0.0  \n",
       "\n",
       "[1 rows x 90 columns]"
      ]
     },
     "execution_count": 3,
     "metadata": {},
     "output_type": "execute_result"
    }
   ],
   "source": [
    "df = pd.DataFrame(input_, index = [0])\n",
    "df"
   ]
  },
  {
   "cell_type": "code",
   "execution_count": 4,
   "metadata": {},
   "outputs": [],
   "source": [
    "counts = len(set([i.split(\"_\")[0] for i in input_.keys() if i != \"time\"])) # 共多少點"
   ]
  },
  {
   "cell_type": "code",
   "execution_count": 5,
   "metadata": {},
   "outputs": [
    {
     "name": "stdout",
     "output_type": "stream",
     "text": [
      "ng_col = []\n",
      "ng_flag = False\n"
     ]
    }
   ],
   "source": [
    "# check NG or OK\n",
    "target_ER = [model_col[\"primary\"][0] + \"_ER\" for model_col in model_cols.values()]\n",
    "target_value = df.loc[0, target_ER]\n",
    "ng_col = target_value[target_value != 0].index.str.replace('_ER', '').tolist()\n",
    "\n",
    "ng_flag = (target_value != 0).any()\n",
    "print(f\"ng_col = {ng_col}\")\n",
    "print(f\"ng_flag = {ng_flag}\")"
   ]
  },
  {
   "cell_type": "code",
   "execution_count": 6,
   "metadata": {},
   "outputs": [
    {
     "name": "stdout",
     "output_type": "stream",
     "text": [
      "{'status': 'success', 'upload_time': '2023-11-09 10:59:20', 'model_id': ['20231025000000', '20231026000000'], 'result': 0, 'counts': 15}\n"
     ]
    }
   ],
   "source": [
    "# OK\n",
    "if not ng_flag:\n",
    "    result = {    \n",
    "        \"status\":   \"success\",\n",
    "        \"upload_time\": upload_time,\n",
    "        \"model_id\": model_id,\n",
    "        \"result\": 0,\n",
    "        \"counts\": counts\n",
    "        }\n",
    "    print(result)"
   ]
  },
  {
   "cell_type": "code",
   "execution_count": 7,
   "metadata": {},
   "outputs": [],
   "source": [
    "# calculate total ER by each side\n",
    "left_ER_col = [col for col in df.columns if (\"ER\" in col) and (\"左邊\" in col) and (\"右邊\" not in col)]\n",
    "right_ER_col = [col for col in df.columns if (\"ER\" in col) and (\"右邊\" in col) and (\"左邊\" not in col)]\n",
    "left  = df[left_ER_col].sum(axis = 1)\n",
    "right = df[right_ER_col].sum(axis = 1)"
   ]
  },
  {
   "cell_type": "code",
   "execution_count": 8,
   "metadata": {},
   "outputs": [
    {
     "name": "stdout",
     "output_type": "stream",
     "text": [
      "error = 0.0\n"
     ]
    },
    {
     "data": {
      "text/plain": [
       "True"
      ]
     },
     "execution_count": 8,
     "metadata": {},
     "output_type": "execute_result"
    }
   ],
   "source": [
    "# choose the adjustment method\n",
    "error = abs(right - left)[0]\n",
    "print(f\"error = {error}\")\n",
    "ng4_5_flag = (error <= 0.001)\n",
    "ng4_5_flag"
   ]
  },
  {
   "cell_type": "code",
   "execution_count": 9,
   "metadata": {},
   "outputs": [
    {
     "name": "stdout",
     "output_type": "stream",
     "text": [
      "NG4_5 model.\n"
     ]
    },
    {
     "data": {
      "text/plain": [
       "{'model': 'ng4_5', 'adjust': 1}"
      ]
     },
     "execution_count": 9,
     "metadata": {},
     "output_type": "execute_result"
    }
   ],
   "source": [
    "# predict\n",
    "pred = {}\n",
    "if ng4_5_flag:\n",
    "    print(\"NG4_5 model.\")\n",
    "    model = pickle.load(open(os.path.join(ng4_5_detail, \"model.pkl\"), \"rb\"))\n",
    "    features = pickle.load(open(os.path.join(ng4_5_detail, \"features.pkl\"), \"rb\"))\n",
    "    X_test = df[features]\n",
    "    test_pred = model.predict(X_test)[0]\n",
    "    pred.update({\n",
    "        \"model\": \"ng4_5\",\n",
    "        \"adjust\": test_pred\n",
    "    })\n",
    "\n",
    "else:\n",
    "    print(\"NG1_3 model.\")\n",
    "    pred.update({\n",
    "        \"model\": \"ng1_3\",\n",
    "        \"adjust\": {},\n",
    "    })\n",
    "    for i, model_col in enumerate(model_cols.values(), start = 1):\n",
    "        primary = model_col[\"primary\"][0]\n",
    "        if primary in ng_col:\n",
    "            model = pickle.load(open(os.path.join(ng1_3_detail, f\"model{i}.pkl\"), \"rb\"))        \n",
    "            scaler = pickle.load(open(os.path.join(ng1_3_detail, f\"scaler{i}.pkl\"), \"rb\"))\n",
    "            features = pickle.load(open(os.path.join(ng1_3_detail, f\"features{i}.pkl\"), \"rb\"))\n",
    "\n",
    "            X_test = df[features]\n",
    "            X_test = scaler.transform(X_test)\n",
    "            test_pred = model.predict(X_test).argmax(axis = 1)[0]\n",
    "            pred[\"adjust\"][primary] = int(test_pred + 1)  # NG1: -0.001, NG2: 0, NG3: +0.001\n",
    "        else:            \n",
    "            pred[\"adjust\"][primary] = 2 # 沒NG補2\n",
    "pred"
   ]
  },
  {
   "cell_type": "code",
   "execution_count": 10,
   "metadata": {},
   "outputs": [],
   "source": [
    "# save NG hisitory\n",
    "if pred[\"model\"] == \"ng1_3\":\n",
    "    if (machine_id in ng1_3_history):\n",
    "        ng1_3_history[machine_id][upload_time] = pred[\"adjust\"]\n",
    "    else:\n",
    "        ng1_3_history[machine_id] = {upload_time: pred[\"adjust\"]}\n",
    "        \n",
    "    with open(ng1_3_history_path, 'w', encoding = 'utf-8') as file:\n",
    "        json.dump(ng1_3_history, file, indent = 4, ensure_ascii = False)"
   ]
  },
  {
   "cell_type": "code",
   "execution_count": 11,
   "metadata": {},
   "outputs": [],
   "source": [
    "# bulid compensate\n",
    "mode_pred = []\n",
    "if pred[\"model\"] == \"ng1_3\":\n",
    "    compensate = {}\n",
    "    for primary, adjust in pred[\"adjust\"].items():\n",
    "        if adjust == 2: # NG1: -0.001, NG2: 0, NG3: +0.001，2不須補償\n",
    "            continue\n",
    "        \n",
    "        point = primary.split(\"距離\")[0] # point\n",
    "\n",
    "        # direction and no\n",
    "        if \"A0\" in primary:\n",
    "            direction = directions[\"A0\"][\"name\"]\n",
    "            no = directions[\"A0\"][\"no\"]\n",
    "        elif \"A180\" in primary:\n",
    "            direction = directions[\"A180\"][\"name\"]\n",
    "            no = directions[\"A180\"][\"no\"]\n",
    "        else:\n",
    "            direction = directions[\"A0+A180\"][\"name\"]\n",
    "            no = directions[\"A0+A180\"][\"no\"]\n",
    "\n",
    "        # side\n",
    "        if (\"右邊\" in primary) and (\"左邊\" in primary):\n",
    "            side = \"left_right\"\n",
    "        elif \"左邊\" in primary:\n",
    "            side = \"left\"\n",
    "        elif \"右邊\" in primary:\n",
    "            side = \"right\"\n",
    "        else:\n",
    "            side = \"left_right\"\n",
    "\n",
    "        adjust1 = -0.001 if (adjust == 1) else 0.001 # NG1: -0.001, NG2: 0, NG3: +0.001\n",
    "\n",
    "        if (direction in compensate) and (side in compensate[direction]):\n",
    "            compensate[direction][side] = {\"no\": no, point: adjust1}\n",
    "        else:\n",
    "            compensate[direction] = {\n",
    "                side:{\n",
    "                    \"no\": no,\n",
    "                    point: adjust1\n",
    "                }\n",
    "            }\n",
    "        \n",
    "        mode_pred.append(adjust) # 最後result從所有adjust中不為NG2的取眾數\n",
    "    \n",
    "    # get result\n",
    "    if \"P15\" in compensate:\n",
    "        result = 3\n",
    "    elif \"P14\" in compensate:\n",
    "        result = 2\n",
    "    elif \"P13\" in compensate:\n",
    "        result = 1\n",
    "    else:\n",
    "        result = 0\n",
    "else:\n",
    "    result, compensate = (4, \"NC_FIX_1\") if pred[\"adjust\"] == 0 else (5, \"NC_FIX_2\")"
   ]
  },
  {
   "cell_type": "code",
   "execution_count": 12,
   "metadata": {},
   "outputs": [],
   "source": [
    "# fix A180+A0 compensate, split XY to X & Y \n",
    "if directions[\"A0+A180\"][\"name\"] in compensate:\n",
    "    XY = compensate[directions[\"A0+A180\"][\"name\"]][\"left_right\"].pop(\"XY\")\n",
    "    compensate[directions[\"A0+A180\"][\"name\"]][\"left_right\"].update({\n",
    "        \"X\": XY,\n",
    "        \"Y\": XY\n",
    "    })"
   ]
  },
  {
   "cell_type": "code",
   "execution_count": 13,
   "metadata": {},
   "outputs": [
    {
     "data": {
      "text/plain": [
       "{'status': 'success',\n",
       " 'upload_time': '2023-11-09 10:59:20',\n",
       " 'model_id': ['20231025000000', '20231026000000'],\n",
       " 'result': 5,\n",
       " 'counts': 15,\n",
       " 'compensate': 'NC_FIX_2'}"
      ]
     },
     "execution_count": 13,
     "metadata": {},
     "output_type": "execute_result"
    }
   ],
   "source": [
    "result = {    \n",
    "    \"status\":   \"success\",\n",
    "    \"upload_time\": upload_time,\n",
    "    \"model_id\": model_id,\n",
    "    \"result\": result,\n",
    "    \"counts\": counts\n",
    "    }\n",
    "if compensate:\n",
    "    result[\"compensate\"] = compensate\n",
    "result"
   ]
  },
  {
   "cell_type": "code",
   "execution_count": 14,
   "metadata": {},
   "outputs": [
    {
     "data": {
      "text/plain": [
       "'C:\\\\Users\\\\tzuli\\\\Documents\\\\python\\\\hosong\\\\data\\\\predict\\\\output.json'"
      ]
     },
     "execution_count": 14,
     "metadata": {},
     "output_type": "execute_result"
    }
   ],
   "source": [
    "output_json"
   ]
  },
  {
   "cell_type": "code",
   "execution_count": 15,
   "metadata": {},
   "outputs": [],
   "source": [
    "with open(output_json, 'w', encoding = 'utf-8') as file:\n",
    "    json.dump(result, file, indent = 4, ensure_ascii = False)"
   ]
  }
 ],
 "metadata": {
  "kernelspec": {
   "display_name": ".venv",
   "language": "python",
   "name": "python3"
  },
  "language_info": {
   "codemirror_mode": {
    "name": "ipython",
    "version": 3
   },
   "file_extension": ".py",
   "mimetype": "text/x-python",
   "name": "python",
   "nbconvert_exporter": "python",
   "pygments_lexer": "ipython3",
   "version": "3.8.10"
  }
 },
 "nbformat": 4,
 "nbformat_minor": 2
}
